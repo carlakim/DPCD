{
 "cells": [
  {
   "cell_type": "markdown",
   "metadata": {},
   "source": [
    "___\n",
    "# Ciência dos Dados - PROJETO 1"
   ]
  },
  {
   "cell_type": "markdown",
   "metadata": {},
   "source": [
    "## Carla Kim Gaieski\n",
    "___"
   ]
  },
  {
   "cell_type": "markdown",
   "metadata": {},
   "source": [
    "## As gerações no mundo moderno"
   ]
  },
  {
   "cell_type": "markdown",
   "metadata": {},
   "source": [
    "___\n",
    "## Introdução\n"
   ]
  },
  {
   "cell_type": "markdown",
   "metadata": {
    "collapsed": true
   },
   "source": [
    "No século XX o mundo sofreu uma revolução tecnológica. Novas tecnologias foram introduzidas à nossas vidas e, de certa forma, cada vez mais nos fazemos dependente dela. Assim, as novas gerações, principalemte a Z, e parte da Y, de fachetaria mais jovem nasceram já imergidas nesse mundo tecnológico. Por isso, possuem mais afinidade e facilidade em mexer com eletrônicos, que os mais velhos. No entanto, agora, adultos e anciões estão se mordenizando mais rapidamente. Assim, há um crescente uso de eletrônicos entre os mais velhos, tanto é que existem aulas próprias para o ensino de como mexer nos equipamentos. Por outro lado, as crianças, até bebês, possuem seus próprios aparelhos digitais, que se tornou o único meio de entreterimento deles.\n",
    "Com isso, irei analisar o acesso à internet entre diferentes gerações em cada unidade de federação, diferenciando, também, entre homens e mulheres."
   ]
  },
  {
   "cell_type": "markdown",
   "metadata": {},
   "source": [
    "___\n",
    "## Filtros da base de dados"
   ]
  },
  {
   "cell_type": "code",
   "execution_count": 2,
   "metadata": {
    "collapsed": true
   },
   "outputs": [],
   "source": [
    "%matplotlib inline\n",
    "import pandas as pd\n",
    "import matplotlib.pyplot as plt\n",
    "import numpy as np\n",
    "import os"
   ]
  },
  {
   "cell_type": "code",
   "execution_count": 3,
   "metadata": {},
   "outputs": [
    {
     "name": "stdout",
     "output_type": "stream",
     "text": [
      "Esperamos trabalhar no diretório\n",
      "C:\\Users\\Carla Kim\\Downloads\n"
     ]
    }
   ],
   "source": [
    "print('Esperamos trabalhar no diretório')\n",
    "print(os.getcwd())"
   ]
  },
  {
   "cell_type": "code",
   "execution_count": 4,
   "metadata": {
    "collapsed": true
   },
   "outputs": [],
   "source": [
    "#Se usar o arquivo descompactado\n",
    "#pd.read_csv('PES2015.csv',sep=',')\n",
    "\n",
    "#Se usar o arquivo compactado como está no dropbox púbico\n",
    "#pd.read_csv('PES2015csv.zip', compression='zip', header=0, sep=',', quotechar='\"')"
   ]
  },
  {
   "cell_type": "markdown",
   "metadata": {},
   "source": [
    "Criando meu data frame:"
   ]
  },
  {
   "cell_type": "code",
   "execution_count": 5,
   "metadata": {
    "collapsed": true
   },
   "outputs": [],
   "source": [
    "dados = pd.read_csv('PES2015csv.zip', compression='zip', header=0, sep=',', quotechar='\"')\n",
    "\n",
    "df = pd.DataFrame({'Unidade de federação' : dados.UF,\n",
    "                   'O acesso à Internet foi feito através de telefone celular': dados.V061113,\n",
    "                    'O acesso à Internet foi feito através de tablet': dados.V061114,\n",
    "                    'O acesso à Internet foi feito através de outro equipamento eletrônico': dados.V061116,\n",
    "                   'Tem telefone móvel celular para uso pessoal':dados.V06112,\n",
    "                   'Sexo': dados.V0302,\n",
    "                    'Idade do morador na data de referência': dados.V8005})\n",
    "\n",
    "df.to_csv('Projeto1CDDP.csv')"
   ]
  },
  {
   "cell_type": "markdown",
   "metadata": {
    "collapsed": true
   },
   "source": [
    "Arrumando o dataframe:"
   ]
  },
  {
   "cell_type": "code",
   "execution_count": 6,
   "metadata": {},
   "outputs": [
    {
     "data": {
      "text/html": [
       "<div>\n",
       "<style>\n",
       "    .dataframe thead tr:only-child th {\n",
       "        text-align: right;\n",
       "    }\n",
       "\n",
       "    .dataframe thead th {\n",
       "        text-align: left;\n",
       "    }\n",
       "\n",
       "    .dataframe tbody tr th {\n",
       "        vertical-align: top;\n",
       "    }\n",
       "</style>\n",
       "<table border=\"1\" class=\"dataframe\">\n",
       "  <thead>\n",
       "    <tr style=\"text-align: right;\">\n",
       "      <th></th>\n",
       "      <th>Idade do morador na data de referência</th>\n",
       "      <th>O acesso à Internet foi feito através de outro equipamento eletrônico</th>\n",
       "      <th>O acesso à Internet foi feito através de tablet</th>\n",
       "      <th>O acesso à Internet foi feito através de telefone celular</th>\n",
       "      <th>Sexo</th>\n",
       "      <th>Tem telefone móvel celular para uso pessoal</th>\n",
       "      <th>Unidade de federação</th>\n",
       "    </tr>\n",
       "  </thead>\n",
       "  <tbody>\n",
       "    <tr>\n",
       "      <th>0</th>\n",
       "      <td>23</td>\n",
       "      <td>Não</td>\n",
       "      <td>Não</td>\n",
       "      <td>Sim</td>\n",
       "      <td>Masculino</td>\n",
       "      <td>Sim</td>\n",
       "      <td>Rondônia</td>\n",
       "    </tr>\n",
       "    <tr>\n",
       "      <th>1</th>\n",
       "      <td>23</td>\n",
       "      <td>Não</td>\n",
       "      <td>Não</td>\n",
       "      <td>Sim</td>\n",
       "      <td>Feminino</td>\n",
       "      <td>Sim</td>\n",
       "      <td>Rondônia</td>\n",
       "    </tr>\n",
       "    <tr>\n",
       "      <th>2</th>\n",
       "      <td>35</td>\n",
       "      <td>Não</td>\n",
       "      <td>Não</td>\n",
       "      <td>Sim</td>\n",
       "      <td>Feminino</td>\n",
       "      <td>Sim</td>\n",
       "      <td>Rondônia</td>\n",
       "    </tr>\n",
       "    <tr>\n",
       "      <th>3</th>\n",
       "      <td>34</td>\n",
       "      <td>Não</td>\n",
       "      <td>Não</td>\n",
       "      <td>Sim</td>\n",
       "      <td>Masculino</td>\n",
       "      <td>Sim</td>\n",
       "      <td>Rondônia</td>\n",
       "    </tr>\n",
       "    <tr>\n",
       "      <th>4</th>\n",
       "      <td>11</td>\n",
       "      <td>Não</td>\n",
       "      <td>Não</td>\n",
       "      <td>Não</td>\n",
       "      <td>Feminino</td>\n",
       "      <td>Sim</td>\n",
       "      <td>Rondônia</td>\n",
       "    </tr>\n",
       "  </tbody>\n",
       "</table>\n",
       "</div>"
      ],
      "text/plain": [
       "   Idade do morador na data de referência  \\\n",
       "0                                      23   \n",
       "1                                      23   \n",
       "2                                      35   \n",
       "3                                      34   \n",
       "4                                      11   \n",
       "\n",
       "  O acesso à Internet foi feito através de outro equipamento eletrônico  \\\n",
       "0                                                Não                      \n",
       "1                                                Não                      \n",
       "2                                                Não                      \n",
       "3                                                Não                      \n",
       "4                                                Não                      \n",
       "\n",
       "  O acesso à Internet foi feito através de tablet  \\\n",
       "0                                             Não   \n",
       "1                                             Não   \n",
       "2                                             Não   \n",
       "3                                             Não   \n",
       "4                                             Não   \n",
       "\n",
       "  O acesso à Internet foi feito através de telefone celular       Sexo  \\\n",
       "0                                                Sim         Masculino   \n",
       "1                                                Sim          Feminino   \n",
       "2                                                Sim          Feminino   \n",
       "3                                                Sim         Masculino   \n",
       "4                                                Não          Feminino   \n",
       "\n",
       "  Tem telefone móvel celular para uso pessoal Unidade de federação  \n",
       "0                                         Sim             Rondônia  \n",
       "1                                         Sim             Rondônia  \n",
       "2                                         Sim             Rondônia  \n",
       "3                                         Sim             Rondônia  \n",
       "4                                         Sim             Rondônia  "
      ]
     },
     "execution_count": 6,
     "metadata": {},
     "output_type": "execute_result"
    }
   ],
   "source": [
    "df['Unidade de federação']= df['Unidade de federação'].astype('category')\n",
    "df['Unidade de federação'].cat.categories = ('Rondônia', 'Acre',\n",
    "                              'Amazonas', 'Roraima', \n",
    "                              'Pará','Amapá','Tocantins',\n",
    "                              'Maranhão','Piauí','Ceará',\n",
    "                            'Rio Grande do Norte','Paraíba',\n",
    "                            'Pernambuco','Alagoas', 'Sergipe',\n",
    "                            'Bahia','Minas Gerais','Espírito Santo',\n",
    "                            'Rio de Janeiro', 'São Paulo', 'Paraná',\n",
    "                            'Santa Catarina','Rio Grande do Sul',\n",
    "                            'Mato Grosso do Sul', 'Mato Grosso', 'Goiás',\n",
    "                            'Distrito Federal')\n",
    "\n",
    "df['Sexo']= df['Sexo'].astype('category')\n",
    "df['Sexo'].cat.categories = ('Masculino','Feminino')\n",
    "\n",
    "df['O acesso à Internet foi feito através de telefone celular']= df['O acesso à Internet foi feito através de telefone celular'].astype('category')\n",
    "df['O acesso à Internet foi feito através de telefone celular'].cat.categories = ('Sim','Não')\n",
    "\n",
    "df['O acesso à Internet foi feito através de tablet']= df['O acesso à Internet foi feito através de tablet'].astype('category')\n",
    "df['O acesso à Internet foi feito através de tablet'].cat.categories = ('Sim','Não')\n",
    "\n",
    "df['O acesso à Internet foi feito através de outro equipamento eletrônico']= df['O acesso à Internet foi feito através de outro equipamento eletrônico'].astype('category')\n",
    "df['O acesso à Internet foi feito através de outro equipamento eletrônico'].cat.categories = ('Sim','Não')\n",
    "\n",
    "df['Tem telefone móvel celular para uso pessoal']= df['Tem telefone móvel celular para uso pessoal'].astype('category')\n",
    "df['Tem telefone móvel celular para uso pessoal'].cat.categories = ('Sim','Não')\n",
    "\n",
    "\n",
    "df.dropna().head()"
   ]
  },
  {
   "cell_type": "markdown",
   "metadata": {},
   "source": [
    "___\n",
    "## Análise e Resultados"
   ]
  },
  {
   "cell_type": "markdown",
   "metadata": {},
   "source": [
    "Aqui estou expondo os valores absolutos, para poder exergar melhor a situação de meus dados"
   ]
  },
  {
   "cell_type": "code",
   "execution_count": 7,
   "metadata": {},
   "outputs": [
    {
     "data": {
      "text/plain": [
       "Sim    88.014651\n",
       "Não    11.985349\n",
       "Name: O acesso à Internet foi feito através de telefone celular, dtype: float64"
      ]
     },
     "execution_count": 7,
     "metadata": {},
     "output_type": "execute_result"
    }
   ],
   "source": [
    "df['O acesso à Internet foi feito através de telefone celular'].value_counts(True)*100"
   ]
  },
  {
   "cell_type": "code",
   "execution_count": 8,
   "metadata": {},
   "outputs": [
    {
     "data": {
      "text/plain": [
       "Não    85.018865\n",
       "Sim    14.981135\n",
       "Name: O acesso à Internet foi feito através de tablet, dtype: float64"
      ]
     },
     "execution_count": 8,
     "metadata": {},
     "output_type": "execute_result"
    }
   ],
   "source": [
    "df['O acesso à Internet foi feito através de tablet'].value_counts(True)*100"
   ]
  },
  {
   "cell_type": "code",
   "execution_count": 9,
   "metadata": {},
   "outputs": [
    {
     "data": {
      "text/plain": [
       "Feminino     51.4651\n",
       "Masculino    48.5349\n",
       "Name: Sexo, dtype: float64"
      ]
     },
     "execution_count": 9,
     "metadata": {},
     "output_type": "execute_result"
    }
   ],
   "source": [
    "df['Sexo'].value_counts(True)*100"
   ]
  },
  {
   "cell_type": "code",
   "execution_count": 10,
   "metadata": {},
   "outputs": [
    {
     "data": {
      "text/plain": [
       "Sim    78.88684\n",
       "Não    21.11316\n",
       "Name: Tem telefone móvel celular para uso pessoal, dtype: float64"
      ]
     },
     "execution_count": 10,
     "metadata": {},
     "output_type": "execute_result"
    }
   ],
   "source": [
    "df['Tem telefone móvel celular para uso pessoal'].value_counts(True)*100"
   ]
  },
  {
   "cell_type": "code",
   "execution_count": 11,
   "metadata": {
    "collapsed": true
   },
   "outputs": [],
   "source": [
    "#df['Unidade de federação'].value_counts(True)*100"
   ]
  },
  {
   "cell_type": "code",
   "execution_count": 15,
   "metadata": {},
   "outputs": [],
   "source": [
    "#df['Idade do morador na data de referência'].value_counts(True)*100"
   ]
  },
  {
   "cell_type": "code",
   "execution_count": 13,
   "metadata": {},
   "outputs": [
    {
     "data": {
      "text/html": [
       "<div>\n",
       "<style>\n",
       "    .dataframe thead tr:only-child th {\n",
       "        text-align: right;\n",
       "    }\n",
       "\n",
       "    .dataframe thead th {\n",
       "        text-align: left;\n",
       "    }\n",
       "\n",
       "    .dataframe tbody tr th {\n",
       "        vertical-align: top;\n",
       "    }\n",
       "</style>\n",
       "<table border=\"1\" class=\"dataframe\">\n",
       "  <thead>\n",
       "    <tr style=\"text-align: right;\">\n",
       "      <th>Tem telefone móvel celular para uso pessoal</th>\n",
       "      <th>Sim</th>\n",
       "      <th>Não</th>\n",
       "    </tr>\n",
       "    <tr>\n",
       "      <th>Unidade de federação</th>\n",
       "      <th></th>\n",
       "      <th></th>\n",
       "    </tr>\n",
       "  </thead>\n",
       "  <tbody>\n",
       "    <tr>\n",
       "      <th>Rondônia</th>\n",
       "      <td>4207</td>\n",
       "      <td>1338</td>\n",
       "    </tr>\n",
       "    <tr>\n",
       "      <th>Acre</th>\n",
       "      <td>2571</td>\n",
       "      <td>1147</td>\n",
       "    </tr>\n",
       "    <tr>\n",
       "      <th>Amazonas</th>\n",
       "      <td>6808</td>\n",
       "      <td>3074</td>\n",
       "    </tr>\n",
       "    <tr>\n",
       "      <th>Roraima</th>\n",
       "      <td>1523</td>\n",
       "      <td>512</td>\n",
       "    </tr>\n",
       "    <tr>\n",
       "      <th>Pará</th>\n",
       "      <td>13290</td>\n",
       "      <td>5697</td>\n",
       "    </tr>\n",
       "    <tr>\n",
       "      <th>Amapá</th>\n",
       "      <td>1722</td>\n",
       "      <td>650</td>\n",
       "    </tr>\n",
       "    <tr>\n",
       "      <th>Tocantins</th>\n",
       "      <td>3923</td>\n",
       "      <td>1170</td>\n",
       "    </tr>\n",
       "    <tr>\n",
       "      <th>Maranhão</th>\n",
       "      <td>4116</td>\n",
       "      <td>3407</td>\n",
       "    </tr>\n",
       "    <tr>\n",
       "      <th>Piauí</th>\n",
       "      <td>3329</td>\n",
       "      <td>1535</td>\n",
       "    </tr>\n",
       "    <tr>\n",
       "      <th>Ceará</th>\n",
       "      <td>11068</td>\n",
       "      <td>4291</td>\n",
       "    </tr>\n",
       "    <tr>\n",
       "      <th>Rio Grande do Norte</th>\n",
       "      <td>3185</td>\n",
       "      <td>1027</td>\n",
       "    </tr>\n",
       "    <tr>\n",
       "      <th>Paraíba</th>\n",
       "      <td>4030</td>\n",
       "      <td>1247</td>\n",
       "    </tr>\n",
       "    <tr>\n",
       "      <th>Pernambuco</th>\n",
       "      <td>14581</td>\n",
       "      <td>4005</td>\n",
       "    </tr>\n",
       "    <tr>\n",
       "      <th>Alagoas</th>\n",
       "      <td>3045</td>\n",
       "      <td>1483</td>\n",
       "    </tr>\n",
       "    <tr>\n",
       "      <th>Sergipe</th>\n",
       "      <td>4001</td>\n",
       "      <td>1239</td>\n",
       "    </tr>\n",
       "    <tr>\n",
       "      <th>Bahia</th>\n",
       "      <td>17098</td>\n",
       "      <td>5511</td>\n",
       "    </tr>\n",
       "    <tr>\n",
       "      <th>Minas Gerais</th>\n",
       "      <td>23518</td>\n",
       "      <td>5455</td>\n",
       "    </tr>\n",
       "    <tr>\n",
       "      <th>Espírito Santo</th>\n",
       "      <td>4636</td>\n",
       "      <td>1080</td>\n",
       "    </tr>\n",
       "    <tr>\n",
       "      <th>Rio de Janeiro</th>\n",
       "      <td>18985</td>\n",
       "      <td>3861</td>\n",
       "    </tr>\n",
       "    <tr>\n",
       "      <th>São Paulo</th>\n",
       "      <td>29533</td>\n",
       "      <td>5661</td>\n",
       "    </tr>\n",
       "    <tr>\n",
       "      <th>Paraná</th>\n",
       "      <td>13347</td>\n",
       "      <td>2960</td>\n",
       "    </tr>\n",
       "    <tr>\n",
       "      <th>Santa Catarina</th>\n",
       "      <td>6841</td>\n",
       "      <td>1600</td>\n",
       "    </tr>\n",
       "    <tr>\n",
       "      <th>Rio Grande do Sul</th>\n",
       "      <td>20167</td>\n",
       "      <td>3079</td>\n",
       "    </tr>\n",
       "    <tr>\n",
       "      <th>Mato Grosso do Sul</th>\n",
       "      <td>4482</td>\n",
       "      <td>687</td>\n",
       "    </tr>\n",
       "    <tr>\n",
       "      <th>Mato Grosso</th>\n",
       "      <td>5262</td>\n",
       "      <td>1055</td>\n",
       "    </tr>\n",
       "    <tr>\n",
       "      <th>Goiás</th>\n",
       "      <td>11023</td>\n",
       "      <td>1652</td>\n",
       "    </tr>\n",
       "    <tr>\n",
       "      <th>Distrito Federal</th>\n",
       "      <td>7153</td>\n",
       "      <td>732</td>\n",
       "    </tr>\n",
       "  </tbody>\n",
       "</table>\n",
       "</div>"
      ],
      "text/plain": [
       "Tem telefone móvel celular para uso pessoal    Sim   Não\n",
       "Unidade de federação                                    \n",
       "Rondônia                                      4207  1338\n",
       "Acre                                          2571  1147\n",
       "Amazonas                                      6808  3074\n",
       "Roraima                                       1523   512\n",
       "Pará                                         13290  5697\n",
       "Amapá                                         1722   650\n",
       "Tocantins                                     3923  1170\n",
       "Maranhão                                      4116  3407\n",
       "Piauí                                         3329  1535\n",
       "Ceará                                        11068  4291\n",
       "Rio Grande do Norte                           3185  1027\n",
       "Paraíba                                       4030  1247\n",
       "Pernambuco                                   14581  4005\n",
       "Alagoas                                       3045  1483\n",
       "Sergipe                                       4001  1239\n",
       "Bahia                                        17098  5511\n",
       "Minas Gerais                                 23518  5455\n",
       "Espírito Santo                                4636  1080\n",
       "Rio de Janeiro                               18985  3861\n",
       "São Paulo                                    29533  5661\n",
       "Paraná                                       13347  2960\n",
       "Santa Catarina                                6841  1600\n",
       "Rio Grande do Sul                            20167  3079\n",
       "Mato Grosso do Sul                            4482   687\n",
       "Mato Grosso                                   5262  1055\n",
       "Goiás                                        11023  1652\n",
       "Distrito Federal                              7153   732"
      ]
     },
     "execution_count": 13,
     "metadata": {},
     "output_type": "execute_result"
    }
   ],
   "source": [
    "ct = pd.crosstab(df['Unidade de federação'], df['Tem telefone móvel celular para uso pessoal'])\n",
    "ct"
   ]
  },
  {
   "cell_type": "markdown",
   "metadata": {},
   "source": [
    "Criando faixa-etárias para classificar a sociedade de acordo com a idade:"
   ]
  },
  {
   "cell_type": "code",
   "execution_count": 25,
   "metadata": {},
   "outputs": [],
   "source": [
    "def faixasidade(df):\n",
    "    x=df['V8005']\n",
    "    if x<10: return 1\n",
    "    elif x<=21: return 2\n",
    "    elif x<60: return 3\n",
    "    elif x>=60: return 4\n",
    "    return 5\n",
    "faixas=dados.apply(faixasidade,axis=1)\n",
    "df['faixas']=faixas\n",
    "df.faixas=df.faixas.astype('category')\n",
    "df.faixas.cat.categories=(['Crianças','Jovens','Adultos','Idosos'])\n"
   ]
  },
  {
   "cell_type": "code",
   "execution_count": 26,
   "metadata": {},
   "outputs": [
    {
     "data": {
      "text/html": [
       "<div>\n",
       "<style>\n",
       "    .dataframe thead tr:only-child th {\n",
       "        text-align: right;\n",
       "    }\n",
       "\n",
       "    .dataframe thead th {\n",
       "        text-align: left;\n",
       "    }\n",
       "\n",
       "    .dataframe tbody tr th {\n",
       "        vertical-align: top;\n",
       "    }\n",
       "</style>\n",
       "<table border=\"1\" class=\"dataframe\">\n",
       "  <thead>\n",
       "    <tr style=\"text-align: right;\">\n",
       "      <th></th>\n",
       "      <th>Idade do morador na data de referência</th>\n",
       "      <th>O acesso à Internet foi feito através de outro equipamento eletrônico</th>\n",
       "      <th>O acesso à Internet foi feito através de tablet</th>\n",
       "      <th>O acesso à Internet foi feito através de telefone celular</th>\n",
       "      <th>Sexo</th>\n",
       "      <th>Tem telefone móvel celular para uso pessoal</th>\n",
       "      <th>Unidade de federação</th>\n",
       "      <th>faixas</th>\n",
       "    </tr>\n",
       "  </thead>\n",
       "  <tbody>\n",
       "    <tr>\n",
       "      <th>0</th>\n",
       "      <td>23</td>\n",
       "      <td>Não</td>\n",
       "      <td>Não</td>\n",
       "      <td>Sim</td>\n",
       "      <td>Masculino</td>\n",
       "      <td>Sim</td>\n",
       "      <td>Rondônia</td>\n",
       "      <td>Adultos</td>\n",
       "    </tr>\n",
       "    <tr>\n",
       "      <th>1</th>\n",
       "      <td>23</td>\n",
       "      <td>Não</td>\n",
       "      <td>Não</td>\n",
       "      <td>Sim</td>\n",
       "      <td>Feminino</td>\n",
       "      <td>Sim</td>\n",
       "      <td>Rondônia</td>\n",
       "      <td>Adultos</td>\n",
       "    </tr>\n",
       "    <tr>\n",
       "      <th>2</th>\n",
       "      <td>35</td>\n",
       "      <td>Não</td>\n",
       "      <td>Não</td>\n",
       "      <td>Sim</td>\n",
       "      <td>Feminino</td>\n",
       "      <td>Sim</td>\n",
       "      <td>Rondônia</td>\n",
       "      <td>Adultos</td>\n",
       "    </tr>\n",
       "    <tr>\n",
       "      <th>3</th>\n",
       "      <td>34</td>\n",
       "      <td>Não</td>\n",
       "      <td>Não</td>\n",
       "      <td>Sim</td>\n",
       "      <td>Masculino</td>\n",
       "      <td>Sim</td>\n",
       "      <td>Rondônia</td>\n",
       "      <td>Adultos</td>\n",
       "    </tr>\n",
       "    <tr>\n",
       "      <th>4</th>\n",
       "      <td>11</td>\n",
       "      <td>Não</td>\n",
       "      <td>Não</td>\n",
       "      <td>Não</td>\n",
       "      <td>Feminino</td>\n",
       "      <td>Sim</td>\n",
       "      <td>Rondônia</td>\n",
       "      <td>Jovens</td>\n",
       "    </tr>\n",
       "  </tbody>\n",
       "</table>\n",
       "</div>"
      ],
      "text/plain": [
       "   Idade do morador na data de referência  \\\n",
       "0                                      23   \n",
       "1                                      23   \n",
       "2                                      35   \n",
       "3                                      34   \n",
       "4                                      11   \n",
       "\n",
       "  O acesso à Internet foi feito através de outro equipamento eletrônico  \\\n",
       "0                                                Não                      \n",
       "1                                                Não                      \n",
       "2                                                Não                      \n",
       "3                                                Não                      \n",
       "4                                                Não                      \n",
       "\n",
       "  O acesso à Internet foi feito através de tablet  \\\n",
       "0                                             Não   \n",
       "1                                             Não   \n",
       "2                                             Não   \n",
       "3                                             Não   \n",
       "4                                             Não   \n",
       "\n",
       "  O acesso à Internet foi feito através de telefone celular       Sexo  \\\n",
       "0                                                Sim         Masculino   \n",
       "1                                                Sim          Feminino   \n",
       "2                                                Sim          Feminino   \n",
       "3                                                Sim         Masculino   \n",
       "4                                                Não          Feminino   \n",
       "\n",
       "  Tem telefone móvel celular para uso pessoal Unidade de federação   faixas  \n",
       "0                                         Sim             Rondônia  Adultos  \n",
       "1                                         Sim             Rondônia  Adultos  \n",
       "2                                         Sim             Rondônia  Adultos  \n",
       "3                                         Sim             Rondônia  Adultos  \n",
       "4                                         Sim             Rondônia   Jovens  "
      ]
     },
     "execution_count": 26,
     "metadata": {},
     "output_type": "execute_result"
    }
   ],
   "source": [
    "df.head()"
   ]
  },
  {
   "cell_type": "code",
   "execution_count": 32,
   "metadata": {},
   "outputs": [
    {
     "data": {
      "text/html": [
       "<div>\n",
       "<style>\n",
       "    .dataframe thead tr:only-child th {\n",
       "        text-align: right;\n",
       "    }\n",
       "\n",
       "    .dataframe thead th {\n",
       "        text-align: left;\n",
       "    }\n",
       "\n",
       "    .dataframe tbody tr th {\n",
       "        vertical-align: top;\n",
       "    }\n",
       "</style>\n",
       "<table border=\"1\" class=\"dataframe\">\n",
       "  <thead>\n",
       "    <tr style=\"text-align: right;\">\n",
       "      <th>Sexo</th>\n",
       "      <th>Masculino</th>\n",
       "      <th>Feminino</th>\n",
       "    </tr>\n",
       "    <tr>\n",
       "      <th>faixas</th>\n",
       "      <th></th>\n",
       "      <th></th>\n",
       "    </tr>\n",
       "  </thead>\n",
       "  <tbody>\n",
       "    <tr>\n",
       "      <th>Crianças</th>\n",
       "      <td>24804</td>\n",
       "      <td>23501</td>\n",
       "    </tr>\n",
       "    <tr>\n",
       "      <th>Jovens</th>\n",
       "      <td>36289</td>\n",
       "      <td>34408</td>\n",
       "    </tr>\n",
       "    <tr>\n",
       "      <th>Adultos</th>\n",
       "      <td>90440</td>\n",
       "      <td>98242</td>\n",
       "    </tr>\n",
       "    <tr>\n",
       "      <th>Idosos</th>\n",
       "      <td>21690</td>\n",
       "      <td>27530</td>\n",
       "    </tr>\n",
       "  </tbody>\n",
       "</table>\n",
       "</div>"
      ],
      "text/plain": [
       "Sexo      Masculino  Feminino\n",
       "faixas                       \n",
       "Crianças      24804     23501\n",
       "Jovens        36289     34408\n",
       "Adultos       90440     98242\n",
       "Idosos        21690     27530"
      ]
     },
     "execution_count": 32,
     "metadata": {},
     "output_type": "execute_result"
    }
   ],
   "source": [
    "ct = pd.crosstab(df['faixas'], df['Sexo'])\n",
    "ct"
   ]
  },
  {
   "cell_type": "code",
   "execution_count": null,
   "metadata": {
    "collapsed": true
   },
   "outputs": [],
   "source": []
  },
  {
   "cell_type": "markdown",
   "metadata": {},
   "source": [
    "___\n",
    "## Conclusão "
   ]
  },
  {
   "cell_type": "markdown",
   "metadata": {
    "collapsed": true
   },
   "source": [
    "Descreva aqui suas conclusões!"
   ]
  },
  {
   "cell_type": "code",
   "execution_count": null,
   "metadata": {
    "collapsed": true
   },
   "outputs": [],
   "source": []
  }
 ],
 "metadata": {
  "anaconda-cloud": {},
  "kernelspec": {
   "display_name": "Python 3",
   "language": "python",
   "name": "python3"
  },
  "language_info": {
   "codemirror_mode": {
    "name": "ipython",
    "version": 3
   },
   "file_extension": ".py",
   "mimetype": "text/x-python",
   "name": "python",
   "nbconvert_exporter": "python",
   "pygments_lexer": "ipython3",
   "version": "3.6.1"
  }
 },
 "nbformat": 4,
 "nbformat_minor": 1
}
