{
 "cells": [
  {
   "cell_type": "markdown",
   "metadata": {},
   "source": [
    "___\n",
    "# Ciência dos Dados - PROJETO 1"
   ]
  },
  {
   "cell_type": "markdown",
   "metadata": {},
   "source": [
    "## Carla Kim Gaieski\n",
    "___"
   ]
  },
  {
   "cell_type": "markdown",
   "metadata": {},
   "source": [
    "## As gerações no mundo moderno"
   ]
  },
  {
   "cell_type": "markdown",
   "metadata": {},
   "source": [
    "___\n",
    "## Introdução\n"
   ]
  },
  {
   "cell_type": "markdown",
   "metadata": {
    "collapsed": true
   },
   "source": [
    "No século XX o mundo sofreu uma revolução tecnológica. Novas tecnologias foram introduzidas à nossas vidas e, de certa forma, cada vez mais nos fazemos dependente dela. Assim, as novas gerações, principalemte a Z, e parte da Y, de fachetaria mais jovem nasceram já imergidas nesse mundo tecnológico. Por isso, possuem mais afinidade e facilidade em mexer com eletrônicos, que os mais velhos. No entanto, agora, adultos e anciões estão se mordenizando mais rapidamente. Assim, há um crescente uso de eletrônicos entre os mais velhos, tanto é que existem aulas próprias para o ensino de como mexer nos equipamentos. Por outro lado, as crianças, até bebês, possuem seus próprios aparelhos digitais, que se tornou o único meio de entreterimento deles.\n",
    "Com isso, irei analisar o acesso à internet entre diferentes gerações em cada unidade de federação, diferenciando, também, entre homens e mulheres."
   ]
  },
  {
   "cell_type": "markdown",
   "metadata": {},
   "source": [
    "___\n",
    "## Filtros da base de dados"
   ]
  },
  {
   "cell_type": "code",
   "execution_count": 2,
   "metadata": {
    "collapsed": true
   },
   "outputs": [],
   "source": [
    "%matplotlib inline\n",
    "import pandas as pd\n",
    "import matplotlib.pyplot as plt\n",
    "import numpy as np\n",
    "import os"
   ]
  },
  {
   "cell_type": "code",
   "execution_count": 3,
   "metadata": {},
   "outputs": [
    {
     "name": "stdout",
     "output_type": "stream",
     "text": [
      "Esperamos trabalhar no diretório\n",
      "C:\\Users\\Carla Kim\\Downloads\n"
     ]
    }
   ],
   "source": [
    "print('Esperamos trabalhar no diretório')\n",
    "print(os.getcwd())"
   ]
  },
  {
   "cell_type": "code",
   "execution_count": 4,
   "metadata": {
    "collapsed": true
   },
   "outputs": [],
   "source": [
    "#Se usar o arquivo descompactado\n",
    "#pd.read_csv('PES2015.csv',sep=',')\n",
    "\n",
    "#Se usar o arquivo compactado como está no dropbox púbico\n",
    "#pd.read_csv('PES2015csv.zip', compression='zip', header=0, sep=',', quotechar='\"')"
   ]
  },
  {
   "cell_type": "markdown",
   "metadata": {},
   "source": [
    "Criando meu data frame:"
   ]
  },
  {
   "cell_type": "code",
   "execution_count": 5,
   "metadata": {
    "collapsed": true
   },
   "outputs": [],
   "source": [
    "dados = pd.read_csv('PES2015csv.zip', compression='zip', header=0, sep=',', quotechar='\"')\n",
    "\n",
    "df = pd.DataFrame({'Unidade de federação' : dados.UF,\n",
    "                   'O acesso à Internet foi feito através de telefone celular': dados.V061113,\n",
    "                    'O acesso à Internet foi feito através de tablet': dados.V061114,\n",
    "                    'O acesso à Internet foi feito através de outro equipamento eletrônico': dados.V061116,\n",
    "                   'Tem telefone móvel celular para uso pessoal':dados.V06112,\n",
    "                   'Sexo': dados.V0302,\n",
    "                    'Idade do morador na data de referência': dados.V8005})\n",
    "\n",
    "df.to_csv('Projeto1CDDP.csv')"
   ]
  },
  {
   "cell_type": "markdown",
   "metadata": {
    "collapsed": true
   },
   "source": [
    "Arrumando o dataframe:"
   ]
  },
  {
   "cell_type": "code",
   "execution_count": 6,
   "metadata": {},
   "outputs": [
    {
     "data": {
      "text/html": [
       "<div>\n",
       "<style>\n",
       "    .dataframe thead tr:only-child th {\n",
       "        text-align: right;\n",
       "    }\n",
       "\n",
       "    .dataframe thead th {\n",
       "        text-align: left;\n",
       "    }\n",
       "\n",
       "    .dataframe tbody tr th {\n",
       "        vertical-align: top;\n",
       "    }\n",
       "</style>\n",
       "<table border=\"1\" class=\"dataframe\">\n",
       "  <thead>\n",
       "    <tr style=\"text-align: right;\">\n",
       "      <th></th>\n",
       "      <th>Idade do morador na data de referência</th>\n",
       "      <th>O acesso à Internet foi feito através de outro equipamento eletrônico</th>\n",
       "      <th>O acesso à Internet foi feito através de tablet</th>\n",
       "      <th>O acesso à Internet foi feito através de telefone celular</th>\n",
       "      <th>Sexo</th>\n",
       "      <th>Tem telefone móvel celular para uso pessoal</th>\n",
       "      <th>Unidade de federação</th>\n",
       "    </tr>\n",
       "  </thead>\n",
       "  <tbody>\n",
       "    <tr>\n",
       "      <th>0</th>\n",
       "      <td>23</td>\n",
       "      <td>Não</td>\n",
       "      <td>Não</td>\n",
       "      <td>Sim</td>\n",
       "      <td>Masculino</td>\n",
       "      <td>Sim</td>\n",
       "      <td>Rondônia</td>\n",
       "    </tr>\n",
       "    <tr>\n",
       "      <th>1</th>\n",
       "      <td>23</td>\n",
       "      <td>Não</td>\n",
       "      <td>Não</td>\n",
       "      <td>Sim</td>\n",
       "      <td>Feminino</td>\n",
       "      <td>Sim</td>\n",
       "      <td>Rondônia</td>\n",
       "    </tr>\n",
       "    <tr>\n",
       "      <th>2</th>\n",
       "      <td>35</td>\n",
       "      <td>Não</td>\n",
       "      <td>Não</td>\n",
       "      <td>Sim</td>\n",
       "      <td>Feminino</td>\n",
       "      <td>Sim</td>\n",
       "      <td>Rondônia</td>\n",
       "    </tr>\n",
       "    <tr>\n",
       "      <th>3</th>\n",
       "      <td>34</td>\n",
       "      <td>Não</td>\n",
       "      <td>Não</td>\n",
       "      <td>Sim</td>\n",
       "      <td>Masculino</td>\n",
       "      <td>Sim</td>\n",
       "      <td>Rondônia</td>\n",
       "    </tr>\n",
       "    <tr>\n",
       "      <th>4</th>\n",
       "      <td>11</td>\n",
       "      <td>Não</td>\n",
       "      <td>Não</td>\n",
       "      <td>Não</td>\n",
       "      <td>Feminino</td>\n",
       "      <td>Sim</td>\n",
       "      <td>Rondônia</td>\n",
       "    </tr>\n",
       "  </tbody>\n",
       "</table>\n",
       "</div>"
      ],
      "text/plain": [
       "   Idade do morador na data de referência  \\\n",
       "0                                      23   \n",
       "1                                      23   \n",
       "2                                      35   \n",
       "3                                      34   \n",
       "4                                      11   \n",
       "\n",
       "  O acesso à Internet foi feito através de outro equipamento eletrônico  \\\n",
       "0                                                Não                      \n",
       "1                                                Não                      \n",
       "2                                                Não                      \n",
       "3                                                Não                      \n",
       "4                                                Não                      \n",
       "\n",
       "  O acesso à Internet foi feito através de tablet  \\\n",
       "0                                             Não   \n",
       "1                                             Não   \n",
       "2                                             Não   \n",
       "3                                             Não   \n",
       "4                                             Não   \n",
       "\n",
       "  O acesso à Internet foi feito através de telefone celular       Sexo  \\\n",
       "0                                                Sim         Masculino   \n",
       "1                                                Sim          Feminino   \n",
       "2                                                Sim          Feminino   \n",
       "3                                                Sim         Masculino   \n",
       "4                                                Não          Feminino   \n",
       "\n",
       "  Tem telefone móvel celular para uso pessoal Unidade de federação  \n",
       "0                                         Sim             Rondônia  \n",
       "1                                         Sim             Rondônia  \n",
       "2                                         Sim             Rondônia  \n",
       "3                                         Sim             Rondônia  \n",
       "4                                         Sim             Rondônia  "
      ]
     },
     "execution_count": 6,
     "metadata": {},
     "output_type": "execute_result"
    }
   ],
   "source": [
    "df['Unidade de federação']= df['Unidade de federação'].astype('category')\n",
    "df['Unidade de federação'].cat.categories = ('Rondônia', 'Acre',\n",
    "                              'Amazonas', 'Roraima', \n",
    "                              'Pará','Amapá','Tocantins',\n",
    "                              'Maranhão','Piauí','Ceará',\n",
    "                            'Rio Grande do Norte','Paraíba',\n",
    "                            'Pernambuco','Alagoas', 'Sergipe',\n",
    "                            'Bahia','Minas Gerais','Espírito Santo',\n",
    "                            'Rio de Janeiro', 'São Paulo', 'Paraná',\n",
    "                            'Santa Catarina','Rio Grande do Sul',\n",
    "                            'Mato Grosso do Sul', 'Mato Grosso', 'Goiás',\n",
    "                            'Distrito Federal')\n",
    "\n",
    "df['Sexo']= df['Sexo'].astype('category')\n",
    "df['Sexo'].cat.categories = ('Masculino','Feminino')\n",
    "\n",
    "df['O acesso à Internet foi feito através de telefone celular']= df['O acesso à Internet foi feito através de telefone celular'].astype('category')\n",
    "df['O acesso à Internet foi feito através de telefone celular'].cat.categories = ('Sim','Não')\n",
    "\n",
    "df['O acesso à Internet foi feito através de tablet']= df['O acesso à Internet foi feito através de tablet'].astype('category')\n",
    "df['O acesso à Internet foi feito através de tablet'].cat.categories = ('Sim','Não')\n",
    "\n",
    "df['O acesso à Internet foi feito através de outro equipamento eletrônico']= df['O acesso à Internet foi feito através de outro equipamento eletrônico'].astype('category')\n",
    "df['O acesso à Internet foi feito através de outro equipamento eletrônico'].cat.categories = ('Sim','Não')\n",
    "\n",
    "df['Tem telefone móvel celular para uso pessoal']= df['Tem telefone móvel celular para uso pessoal'].astype('category')\n",
    "df['Tem telefone móvel celular para uso pessoal'].cat.categories = ('Sim','Não')\n",
    "\n",
    "\n",
    "df.head()"
   ]
  },
  {
   "cell_type": "markdown",
   "metadata": {},
   "source": [
    "___\n",
    "## Análise e Resultados"
   ]
  },
  {
   "cell_type": "markdown",
   "metadata": {},
   "source": [
    "Aqui estou expondo os valores absolutos, para poder exergar melhor a situação de meus dados"
   ]
  },
  {
   "cell_type": "code",
   "execution_count": 7,
   "metadata": {},
   "outputs": [
    {
     "data": {
      "text/plain": [
       "Sim    88.014651\n",
       "Não    11.985349\n",
       "Name: O acesso à Internet foi feito através de telefone celular, dtype: float64"
      ]
     },
     "execution_count": 7,
     "metadata": {},
     "output_type": "execute_result"
    }
   ],
   "source": [
    "df['O acesso à Internet foi feito através de telefone celular'].value_counts(True)*100"
   ]
  },
  {
   "cell_type": "code",
   "execution_count": 8,
   "metadata": {},
   "outputs": [
    {
     "data": {
      "text/plain": [
       "Não    85.018865\n",
       "Sim    14.981135\n",
       "Name: O acesso à Internet foi feito através de tablet, dtype: float64"
      ]
     },
     "execution_count": 8,
     "metadata": {},
     "output_type": "execute_result"
    }
   ],
   "source": [
    "df['O acesso à Internet foi feito através de tablet'].value_counts(True)*100"
   ]
  },
  {
   "cell_type": "code",
   "execution_count": 9,
   "metadata": {},
   "outputs": [
    {
     "data": {
      "text/plain": [
       "Feminino     51.4651\n",
       "Masculino    48.5349\n",
       "Name: Sexo, dtype: float64"
      ]
     },
     "execution_count": 9,
     "metadata": {},
     "output_type": "execute_result"
    }
   ],
   "source": [
    "df['Sexo'].value_counts(True)*100"
   ]
  },
  {
   "cell_type": "code",
   "execution_count": 10,
   "metadata": {},
   "outputs": [
    {
     "data": {
      "text/plain": [
       "Sim    78.88684\n",
       "Não    21.11316\n",
       "Name: Tem telefone móvel celular para uso pessoal, dtype: float64"
      ]
     },
     "execution_count": 10,
     "metadata": {},
     "output_type": "execute_result"
    }
   ],
   "source": [
    "df['Tem telefone móvel celular para uso pessoal'].value_counts(True)*100"
   ]
  },
  {
   "cell_type": "code",
   "execution_count": 11,
   "metadata": {
    "collapsed": true
   },
   "outputs": [],
   "source": [
    "#df['Unidade de federação'].value_counts(True)*100"
   ]
  },
  {
   "cell_type": "code",
   "execution_count": 12,
   "metadata": {
    "collapsed": true
   },
   "outputs": [],
   "source": [
    "#df['Idade do morador na data de referência'].value_counts(True)*100"
   ]
  },
  {
   "cell_type": "markdown",
   "metadata": {},
   "source": [
    "Criando faixa-etárias para classificar a sociedade de acordo com a idade:"
   ]
  },
  {
   "cell_type": "code",
   "execution_count": 20,
   "metadata": {
    "collapsed": true
   },
   "outputs": [],
   "source": [
    "def faixasidade(df):\n",
    "    x=df['V8005']\n",
    "    if x<10: return 1\n",
    "    elif x<=30: return 2\n",
    "    elif x<60: return 3\n",
    "    elif x>=60: return 4\n",
    "    return 5\n",
    "faixas=dados.apply(faixasidade,axis=1)\n",
    "df['faixas']=faixas\n",
    "df.faixas=df.faixas.astype('category')\n",
    "df.faixas.cat.categories=(['Crianças','Jovens','Adultos','Idosos'])"
   ]
  },
  {
   "cell_type": "code",
   "execution_count": 21,
   "metadata": {},
   "outputs": [
    {
     "data": {
      "text/html": [
       "<div>\n",
       "<style>\n",
       "    .dataframe thead tr:only-child th {\n",
       "        text-align: right;\n",
       "    }\n",
       "\n",
       "    .dataframe thead th {\n",
       "        text-align: left;\n",
       "    }\n",
       "\n",
       "    .dataframe tbody tr th {\n",
       "        vertical-align: top;\n",
       "    }\n",
       "</style>\n",
       "<table border=\"1\" class=\"dataframe\">\n",
       "  <thead>\n",
       "    <tr style=\"text-align: right;\">\n",
       "      <th></th>\n",
       "      <th>Idade do morador na data de referência</th>\n",
       "      <th>O acesso à Internet foi feito através de outro equipamento eletrônico</th>\n",
       "      <th>O acesso à Internet foi feito através de tablet</th>\n",
       "      <th>O acesso à Internet foi feito através de telefone celular</th>\n",
       "      <th>Sexo</th>\n",
       "      <th>Tem telefone móvel celular para uso pessoal</th>\n",
       "      <th>Unidade de federação</th>\n",
       "      <th>faixas</th>\n",
       "      <th>Regiaobr</th>\n",
       "    </tr>\n",
       "  </thead>\n",
       "  <tbody>\n",
       "    <tr>\n",
       "      <th>0</th>\n",
       "      <td>23</td>\n",
       "      <td>Não</td>\n",
       "      <td>Não</td>\n",
       "      <td>Sim</td>\n",
       "      <td>Masculino</td>\n",
       "      <td>Sim</td>\n",
       "      <td>Rondônia</td>\n",
       "      <td>Jovens</td>\n",
       "      <td>Norte</td>\n",
       "    </tr>\n",
       "    <tr>\n",
       "      <th>1</th>\n",
       "      <td>23</td>\n",
       "      <td>Não</td>\n",
       "      <td>Não</td>\n",
       "      <td>Sim</td>\n",
       "      <td>Feminino</td>\n",
       "      <td>Sim</td>\n",
       "      <td>Rondônia</td>\n",
       "      <td>Jovens</td>\n",
       "      <td>Norte</td>\n",
       "    </tr>\n",
       "    <tr>\n",
       "      <th>2</th>\n",
       "      <td>35</td>\n",
       "      <td>Não</td>\n",
       "      <td>Não</td>\n",
       "      <td>Sim</td>\n",
       "      <td>Feminino</td>\n",
       "      <td>Sim</td>\n",
       "      <td>Rondônia</td>\n",
       "      <td>Adultos</td>\n",
       "      <td>Norte</td>\n",
       "    </tr>\n",
       "    <tr>\n",
       "      <th>3</th>\n",
       "      <td>34</td>\n",
       "      <td>Não</td>\n",
       "      <td>Não</td>\n",
       "      <td>Sim</td>\n",
       "      <td>Masculino</td>\n",
       "      <td>Sim</td>\n",
       "      <td>Rondônia</td>\n",
       "      <td>Adultos</td>\n",
       "      <td>Norte</td>\n",
       "    </tr>\n",
       "    <tr>\n",
       "      <th>4</th>\n",
       "      <td>11</td>\n",
       "      <td>Não</td>\n",
       "      <td>Não</td>\n",
       "      <td>Não</td>\n",
       "      <td>Feminino</td>\n",
       "      <td>Sim</td>\n",
       "      <td>Rondônia</td>\n",
       "      <td>Jovens</td>\n",
       "      <td>Norte</td>\n",
       "    </tr>\n",
       "  </tbody>\n",
       "</table>\n",
       "</div>"
      ],
      "text/plain": [
       "   Idade do morador na data de referência  \\\n",
       "0                                      23   \n",
       "1                                      23   \n",
       "2                                      35   \n",
       "3                                      34   \n",
       "4                                      11   \n",
       "\n",
       "  O acesso à Internet foi feito através de outro equipamento eletrônico  \\\n",
       "0                                                Não                      \n",
       "1                                                Não                      \n",
       "2                                                Não                      \n",
       "3                                                Não                      \n",
       "4                                                Não                      \n",
       "\n",
       "  O acesso à Internet foi feito através de tablet  \\\n",
       "0                                             Não   \n",
       "1                                             Não   \n",
       "2                                             Não   \n",
       "3                                             Não   \n",
       "4                                             Não   \n",
       "\n",
       "  O acesso à Internet foi feito através de telefone celular       Sexo  \\\n",
       "0                                                Sim         Masculino   \n",
       "1                                                Sim          Feminino   \n",
       "2                                                Sim          Feminino   \n",
       "3                                                Sim         Masculino   \n",
       "4                                                Não          Feminino   \n",
       "\n",
       "  Tem telefone móvel celular para uso pessoal Unidade de federação   faixas  \\\n",
       "0                                         Sim             Rondônia   Jovens   \n",
       "1                                         Sim             Rondônia   Jovens   \n",
       "2                                         Sim             Rondônia  Adultos   \n",
       "3                                         Sim             Rondônia  Adultos   \n",
       "4                                         Sim             Rondônia   Jovens   \n",
       "\n",
       "  Regiaobr  \n",
       "0    Norte  \n",
       "1    Norte  \n",
       "2    Norte  \n",
       "3    Norte  \n",
       "4    Norte  "
      ]
     },
     "execution_count": 21,
     "metadata": {},
     "output_type": "execute_result"
    }
   ],
   "source": [
    "df.head()"
   ]
  },
  {
   "cell_type": "code",
   "execution_count": 22,
   "metadata": {},
   "outputs": [
    {
     "data": {
      "text/html": [
       "<div>\n",
       "<style>\n",
       "    .dataframe thead tr:only-child th {\n",
       "        text-align: right;\n",
       "    }\n",
       "\n",
       "    .dataframe thead th {\n",
       "        text-align: left;\n",
       "    }\n",
       "\n",
       "    .dataframe tbody tr th {\n",
       "        vertical-align: top;\n",
       "    }\n",
       "</style>\n",
       "<table border=\"1\" class=\"dataframe\">\n",
       "  <thead>\n",
       "    <tr style=\"text-align: right;\">\n",
       "      <th>Sexo</th>\n",
       "      <th>Masculino</th>\n",
       "      <th>Feminino</th>\n",
       "    </tr>\n",
       "    <tr>\n",
       "      <th>faixas</th>\n",
       "      <th></th>\n",
       "      <th></th>\n",
       "    </tr>\n",
       "  </thead>\n",
       "  <tbody>\n",
       "    <tr>\n",
       "      <th>Crianças</th>\n",
       "      <td>24804</td>\n",
       "      <td>23501</td>\n",
       "    </tr>\n",
       "    <tr>\n",
       "      <th>Jovens</th>\n",
       "      <td>60299</td>\n",
       "      <td>58996</td>\n",
       "    </tr>\n",
       "    <tr>\n",
       "      <th>Adultos</th>\n",
       "      <td>66430</td>\n",
       "      <td>73654</td>\n",
       "    </tr>\n",
       "    <tr>\n",
       "      <th>Idosos</th>\n",
       "      <td>21690</td>\n",
       "      <td>27530</td>\n",
       "    </tr>\n",
       "  </tbody>\n",
       "</table>\n",
       "</div>"
      ],
      "text/plain": [
       "Sexo      Masculino  Feminino\n",
       "faixas                       \n",
       "Crianças      24804     23501\n",
       "Jovens        60299     58996\n",
       "Adultos       66430     73654\n",
       "Idosos        21690     27530"
      ]
     },
     "execution_count": 22,
     "metadata": {},
     "output_type": "execute_result"
    }
   ],
   "source": [
    "ct = pd.crosstab(df['faixas'], df['Sexo'])\n",
    "ct"
   ]
  },
  {
   "cell_type": "markdown",
   "metadata": {},
   "source": [
    "Criando as regiões do Brasil:"
   ]
  },
  {
   "cell_type": "code",
   "execution_count": 23,
   "metadata": {
    "collapsed": true
   },
   "outputs": [],
   "source": [
    "def regiao(df):\n",
    "    es=df['UF']\n",
    "    if es <= 17: return 1\n",
    "    elif es <= 29: return 2\n",
    "    elif es <= 35: return 3\n",
    "    elif es <= 43: return 4\n",
    "    elif es >= 50: return 5\n",
    "    return 6\n",
    "reg=dados.apply(regiao,axis=1)\n",
    "df['Regiaobr'] = reg\n",
    "df.Regiaobr=df.Regiaobr.astype('category')\n",
    "df.Regiaobr.cat.categories=(['Norte','Nordeste','Sudeste','Sul','Centro-Oeste'])\n"
   ]
  },
  {
   "cell_type": "code",
   "execution_count": 49,
   "metadata": {},
   "outputs": [],
   "source": [
    "ct2 = pd.crosstab(df['faixas'], df['Regiaobr'])"
   ]
  },
  {
   "cell_type": "code",
   "execution_count": 44,
   "metadata": {},
   "outputs": [
    {
     "data": {
      "text/html": [
       "<div>\n",
       "<style>\n",
       "    .dataframe thead tr:only-child th {\n",
       "        text-align: right;\n",
       "    }\n",
       "\n",
       "    .dataframe thead th {\n",
       "        text-align: left;\n",
       "    }\n",
       "\n",
       "    .dataframe tbody tr th {\n",
       "        vertical-align: top;\n",
       "    }\n",
       "</style>\n",
       "<table border=\"1\" class=\"dataframe\">\n",
       "  <thead>\n",
       "    <tr style=\"text-align: right;\">\n",
       "      <th>Regiaobr</th>\n",
       "      <th>Norte</th>\n",
       "      <th>Nordeste</th>\n",
       "      <th>Sudeste</th>\n",
       "      <th>Sul</th>\n",
       "      <th>Centro-Oeste</th>\n",
       "    </tr>\n",
       "    <tr>\n",
       "      <th>Tem telefone móvel celular para uso pessoal</th>\n",
       "      <th></th>\n",
       "      <th></th>\n",
       "      <th></th>\n",
       "      <th></th>\n",
       "      <th></th>\n",
       "    </tr>\n",
       "  </thead>\n",
       "  <tbody>\n",
       "    <tr>\n",
       "      <th>Sim</th>\n",
       "      <td>34044</td>\n",
       "      <td>64453</td>\n",
       "      <td>76672</td>\n",
       "      <td>40355</td>\n",
       "      <td>27920</td>\n",
       "    </tr>\n",
       "    <tr>\n",
       "      <th>Não</th>\n",
       "      <td>13588</td>\n",
       "      <td>23745</td>\n",
       "      <td>16057</td>\n",
       "      <td>7639</td>\n",
       "      <td>4126</td>\n",
       "    </tr>\n",
       "  </tbody>\n",
       "</table>\n",
       "</div>"
      ],
      "text/plain": [
       "Regiaobr                                     Norte  Nordeste  Sudeste    Sul  \\\n",
       "Tem telefone móvel celular para uso pessoal                                    \n",
       "Sim                                          34044     64453    76672  40355   \n",
       "Não                                          13588     23745    16057   7639   \n",
       "\n",
       "Regiaobr                                     Centro-Oeste  \n",
       "Tem telefone móvel celular para uso pessoal                \n",
       "Sim                                                 27920  \n",
       "Não                                                  4126  "
      ]
     },
     "execution_count": 44,
     "metadata": {},
     "output_type": "execute_result"
    }
   ],
   "source": [
    "#crosstab entre se tem telefone pessoal e regiao  do brasil\n",
    "ct3 = pd.crosstab(df['Tem telefone móvel celular para uso pessoal'], df['Regiaobr'])\n",
    "ct3"
   ]
  },
  {
   "cell_type": "code",
   "execution_count": 62,
   "metadata": {},
   "outputs": [
    {
     "data": {
      "image/png": "[encoded data removed]",
      "text/plain": [
       "<matplotlib.figure.Figure at 0x1c580f07cc0>"
      ]
     },
     "metadata": {},
     "output_type": "display_data"
    }
   ],
   "source": [
    "plot = ct3.plot(kind='bar',figsize=(6, 6))\n",
    "plt.show()"
   ]
  },
  {
   "cell_type": "code",
   "execution_count": 63,
   "metadata": {},
   "outputs": [
    {
     "data": {
      "image/png": "[encoded data removed]",
      "text/plain": [
       "<matplotlib.figure.Figure at 0x1c580f28f60>"
      ]
     },
     "metadata": {},
     "output_type": "display_data"
    }
   ],
   "source": [
    "plot2 = ct3.plot(kind='bar',figsize=(6, 6), stacked=True)\n",
    "plt.show()"
   ]
  },
  {
   "cell_type": "code",
   "execution_count": 47,
   "metadata": {},
   "outputs": [],
   "source": [
    "#crosstab entre se tem telefone pessoal e unidade de federacao\n",
    "ct4 = pd.crosstab(df['Tem telefone móvel celular para uso pessoal'], df['Unidade de federação'])"
   ]
  },
  {
   "cell_type": "code",
   "execution_count": null,
   "metadata": {
    "collapsed": true
   },
   "outputs": [],
   "source": []
  },
  {
   "cell_type": "code",
   "execution_count": null,
   "metadata": {
    "collapsed": true
   },
   "outputs": [],
   "source": []
  },
  {
   "cell_type": "code",
   "execution_count": null,
   "metadata": {
    "collapsed": true
   },
   "outputs": [],
   "source": []
  },
  {
   "cell_type": "code",
   "execution_count": null,
   "metadata": {
    "collapsed": true
   },
   "outputs": [],
   "source": []
  },
  {
   "cell_type": "markdown",
   "metadata": {},
   "source": [
    "___\n",
    "## Conclusão "
   ]
  },
  {
   "cell_type": "markdown",
   "metadata": {
    "collapsed": true
   },
   "source": [
    "Descreva aqui suas conclusões!"
   ]
  },
  {
   "cell_type": "code",
   "execution_count": null,
   "metadata": {
    "collapsed": true
   },
   "outputs": [],
   "source": []
  },
  {
   "cell_type": "code",
   "execution_count": null,
   "metadata": {
    "collapsed": true
   },
   "outputs": [],
   "source": []
  }
 ],
 "metadata": {
  "anaconda-cloud": {},
  "kernelspec": {
   "display_name": "Python 3",
   "language": "python",
   "name": "python3"
  },
  "language_info": {
   "codemirror_mode": {
    "name": "ipython",
    "version": 3
   },
   "file_extension": ".py",
   "mimetype": "text/x-python",
   "name": "python",
   "nbconvert_exporter": "python",
   "pygments_lexer": "ipython3",
   "version": "3.6.1"
  }
 },
 "nbformat": 4,
 "nbformat_minor": 1
}
